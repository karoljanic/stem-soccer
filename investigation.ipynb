{
 "cells": [
  {
   "cell_type": "code",
   "execution_count": null,
   "metadata": {
    "collapsed": true,
    "pycharm": {
     "is_executing": true
    }
   },
   "outputs": [],
   "source": [
    "import networkx as nx\n",
    "import matplotlib.pyplot as plt\n",
    "import numpy as np\n",
    "import random"
   ]
  },
  {
   "cell_type": "code",
   "execution_count": null,
   "outputs": [],
   "source": [
    "def roll(probabilities):\n",
    "    probs = probabilities.items()\n",
    "    probs_sum = sum([prob[1] for prob in probs])\n",
    "    probs = [(prob[0], prob[1] / probs_sum) for prob in probs]\n",
    "\n",
    "    random_mass = random.random()\n",
    "    mass = 0\n",
    "\n",
    "    for prob in probs:\n",
    "        mass += prob[1]\n",
    "        if random_mass < mass:\n",
    "            return prob\n",
    "\n",
    "    return probs[-1]"
   ],
   "metadata": {
    "collapsed": false,
    "pycharm": {
     "is_executing": true
    }
   }
  },
  {
   "cell_type": "code",
   "execution_count": null,
   "outputs": [],
   "source": [
    "def generate_random_graph(vertices_number, edge_probability):\n",
    "    graph = nx.Graph()\n",
    "    graph.add_nodes_from(range(vertices_number))\n",
    "\n",
    "    for u in range(vertices_number):\n",
    "        for v in range(u+1, vertices_number):\n",
    "            if random.random() < edge_probability:\n",
    "                graph.add_edge(u, v)\n",
    "\n",
    "    return graph"
   ],
   "metadata": {
    "collapsed": false
   }
  },
  {
   "cell_type": "code",
   "execution_count": null,
   "outputs": [],
   "source": [
    "def remove_edges_with_probability(graph, edge_remove_probability):\n",
    "    edges_to_remove = []\n",
    "    for edge in graph.edges():\n",
    "        if random.random() < edge_remove_probability:\n",
    "            edges_to_remove.append(edge)\n",
    "    graph.remove_edges_from(edges_to_remove)"
   ],
   "metadata": {
    "collapsed": false
   }
  },
  {
   "cell_type": "code",
   "execution_count": null,
   "outputs": [],
   "source": [],
   "metadata": {
    "collapsed": false
   }
  },
  {
   "cell_type": "code",
   "execution_count": null,
   "outputs": [],
   "source": [
    "VERTICES_NUMBER = 6\n",
    "ADD_EDGE_PROBABILITY = 0.8\n",
    "REMOVE_EDGE_PROBABILITY = 0.2\n",
    "\n",
    "random_graph = generate_random_graph(VERTICES_NUMBER, ADD_EDGE_PROBABILITY)\n",
    "nx.draw(random_graph, with_labels=True)\n",
    "plt.show()\n",
    "\n",
    "remove_edges_with_probability(random_graph, REMOVE_EDGE_PROBABILITY)\n",
    "nx.draw(random_graph, with_labels=True)\n",
    "plt.show()"
   ],
   "metadata": {
    "collapsed": false
   }
  }
 ],
 "metadata": {
  "kernelspec": {
   "display_name": "Python 3",
   "language": "python",
   "name": "python3"
  },
  "language_info": {
   "codemirror_mode": {
    "name": "ipython",
    "version": 2
   },
   "file_extension": ".py",
   "mimetype": "text/x-python",
   "name": "python",
   "nbconvert_exporter": "python",
   "pygments_lexer": "ipython2",
   "version": "2.7.6"
  }
 },
 "nbformat": 4,
 "nbformat_minor": 0
}
