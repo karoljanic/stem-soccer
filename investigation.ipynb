{
 "cells": [
  {
   "cell_type": "code",
   "execution_count": 2,
   "metadata": {
    "collapsed": true,
    "pycharm": {
     "is_executing": true
    }
   },
   "outputs": [
    {
     "ename": "ModuleNotFoundError",
     "evalue": "No module named 'networkx'",
     "output_type": "error",
     "traceback": [
      "\u001b[0;31m---------------------------------------------------------------------------\u001b[0m",
      "\u001b[0;31mModuleNotFoundError\u001b[0m                       Traceback (most recent call last)",
      "\u001b[1;32m/home/karoljanic/Documents/stem-soccer/investigation.ipynb Cell 1\u001b[0m line \u001b[0;36m1\n\u001b[0;32m----> <a href='vscode-notebook-cell:/home/karoljanic/Documents/stem-soccer/investigation.ipynb#W0sZmlsZQ%3D%3D?line=0'>1</a>\u001b[0m \u001b[39mimport\u001b[39;00m \u001b[39mnetworkx\u001b[39;00m \u001b[39mas\u001b[39;00m \u001b[39mnx\u001b[39;00m\n\u001b[1;32m      <a href='vscode-notebook-cell:/home/karoljanic/Documents/stem-soccer/investigation.ipynb#W0sZmlsZQ%3D%3D?line=1'>2</a>\u001b[0m \u001b[39mimport\u001b[39;00m \u001b[39mmatplotlib\u001b[39;00m\u001b[39m.\u001b[39;00m\u001b[39mpyplot\u001b[39;00m \u001b[39mas\u001b[39;00m \u001b[39mplt\u001b[39;00m\n\u001b[1;32m      <a href='vscode-notebook-cell:/home/karoljanic/Documents/stem-soccer/investigation.ipynb#W0sZmlsZQ%3D%3D?line=2'>3</a>\u001b[0m \u001b[39mimport\u001b[39;00m \u001b[39mnumpy\u001b[39;00m \u001b[39mas\u001b[39;00m \u001b[39mnp\u001b[39;00m\n",
      "\u001b[0;31mModuleNotFoundError\u001b[0m: No module named 'networkx'"
     ]
    }
   ],
   "source": [
    "import networkx as nx\n",
    "import matplotlib.pyplot as plt\n",
    "import numpy as np\n",
    "import random"
   ]
  },
  {
   "cell_type": "code",
   "execution_count": null,
   "metadata": {
    "collapsed": false,
    "pycharm": {
     "is_executing": true
    }
   },
   "outputs": [],
   "source": [
    "def roll(probabilities):\n",
    "    probs = probabilities.items()\n",
    "    probs_sum = sum([prob[1] for prob in probs])\n",
    "    probs = [(prob[0], prob[1] / probs_sum) for prob in probs]\n",
    "\n",
    "    random_mass = random.random()\n",
    "    mass = 0\n",
    "\n",
    "    for prob in probs:\n",
    "        mass += prob[1]\n",
    "        if random_mass < mass:\n",
    "            return prob\n",
    "\n",
    "    return probs[-1]"
   ]
  },
  {
   "cell_type": "code",
   "execution_count": null,
   "metadata": {
    "collapsed": false
   },
   "outputs": [],
   "source": [
    "def generate_random_graph(vertices_number, edge_probability):\n",
    "    graph = nx.Graph()\n",
    "    graph.add_nodes_from(range(vertices_number))\n",
    "\n",
    "    for u in range(vertices_number):\n",
    "        for v in range(u+1, vertices_number):\n",
    "            if random.random() < edge_probability:\n",
    "                graph.add_edge(u, v)\n",
    "\n",
    "    return graph"
   ]
  },
  {
   "cell_type": "code",
   "execution_count": null,
   "metadata": {
    "collapsed": false
   },
   "outputs": [],
   "source": [
    "def remove_edges_with_probability(graph, edge_remove_probability):\n",
    "    edges_to_remove = []\n",
    "    for edge in graph.edges():\n",
    "        if random.random() < edge_remove_probability:\n",
    "            edges_to_remove.append(edge)\n",
    "    graph.remove_edges_from(edges_to_remove)"
   ]
  },
  {
   "cell_type": "code",
   "execution_count": null,
   "metadata": {
    "collapsed": false
   },
   "outputs": [],
   "source": [
    "def random_subset(seq, m):\n",
    "    targets = set()\n",
    "    while len(targets) < m:\n",
    "        x = random.choice(seq)\n",
    "        targets.add(x)\n",
    "    return targets\n",
    "\n",
    "\n",
    "def barabasi_albert(n, m):\n",
    "    if n < 0 or m < 1 or m >= n:\n",
    "        raise nx.NetworkXError(\n",
    "            f'Barabási-Albert network must have n >= 0 and m >= 1 and m < n, m = {m}, n = {n}'\n",
    "        )\n",
    "    \n",
    "    G = nx.empty_graph(n)\n",
    "    repeated_nodes = [n for n in G.nodes]\n",
    "    source = 0\n",
    "    while source < n:\n",
    "        targets = random_subset(repeated_nodes, m)\n",
    "        G.add_edges_from(zip([source] * m, targets))\n",
    "        repeated_nodes.extend(targets)\n",
    "        repeated_nodes.extend([source] * m)\n",
    "\n",
    "        source += 1\n",
    "\n",
    "    return G\n",
    "\n",
    "\n",
    "def barabasi_albert_with_coloring(n, m, node_coloring_function, edge_coloring_function):\n",
    "    if n < 0 or m < 1 or m >= n:\n",
    "        raise nx.NetworkXError(\n",
    "            f'Barabási-Albert network must have n >= 0 and m >= 1 and m < n, m = {m}, n = {n}'\n",
    "        )\n",
    "    \n",
    "    G = nx.empty_graph(n)\n",
    "    repeated_nodes = [n for n in G.nodes]\n",
    "    source = 0\n",
    "    while source < n:\n",
    "        targets = random_subset(repeated_nodes, m)\n",
    "\n",
    "        G.add_edges_from(zip([source] * m, targets))\n",
    "        repeated_nodes.extend(targets)\n",
    "        repeated_nodes.extend([source] * m)\n",
    "\n",
    "        G.nodes[source]['color'] = node_coloring_function(G, source)\n",
    "        for target in targets:\n",
    "            G.edges[source, target]['color'] = edge_coloring_function(G, source, target)\n",
    "\n",
    "        source += 1\n",
    "\n",
    "    return G\n",
    "    \n",
    "N = 20\n",
    "M = 2\n",
    "\n",
    "barabasi_albert_graph = barabasi_albert_with_coloring(N, M, lambda G, node: 'green', lambda G, source, target: 'blue')\n",
    "node_colors = [barabasi_albert_graph.nodes[node]['color'] for node in barabasi_albert_graph.nodes]\n",
    "edge_colors = [barabasi_albert_graph.edges[edge]['color'] for edge in barabasi_albert_graph.edges]\n",
    "\n",
    "nx.draw(barabasi_albert_graph, with_labels=False, node_color=node_colors, edge_color=edge_colors)\n"
   ]
  },
  {
   "cell_type": "code",
   "execution_count": null,
   "metadata": {},
   "outputs": [],
   "source": [
    "def random_subset(seq, m):\n",
    "    targets = set()\n",
    "    while len(targets) < m:\n",
    "        x = random.choice(seq)\n",
    "        targets.add(x)\n",
    "    return targets\n",
    "\n",
    "\n",
    "def barabasi_albert(n, m):\n",
    "    if n < 0 or m < 1 or m >= n:\n",
    "        raise nx.NetworkXError(\n",
    "            f'Barabási-Albert network must have n >= 0 and m >= 1 and m < n, m = {m}, n = {n}'\n",
    "        )\n",
    "    \n",
    "    G = nx.empty_graph(n)\n",
    "    repeated_nodes = [n for n in G.nodes]\n",
    "    source = 0\n",
    "    while source < n:\n",
    "        targets = random_subset(repeated_nodes, m)\n",
    "        G.add_edges_from(zip([source] * m, targets))\n",
    "        repeated_nodes.extend(targets)\n",
    "        repeated_nodes.extend([source] * m)\n",
    "\n",
    "        source += 1\n",
    "\n",
    "    return G\n",
    "\n",
    "\n",
    "def barabasi_albert_with_coloring(n, m, node_coloring_function, edge_coloring_function):\n",
    "    if n < 0 or m < 1 or m >= n:\n",
    "        raise nx.NetworkXError(\n",
    "            f'Barabási-Albert network must have n >= 0 and m >= 1 and m < n, m = {m}, n = {n}'\n",
    "        )\n",
    "    \n",
    "    G = nx.empty_graph(n)\n",
    "    repeated_nodes = [n for n in G.nodes]\n",
    "    source = 0\n",
    "    while source < n:\n",
    "        targets = random_subset(repeated_nodes, m)\n",
    "\n",
    "        G.add_edges_from(zip([source] * m, targets))\n",
    "        repeated_nodes.extend(targets)\n",
    "        repeated_nodes.extend([source] * m)\n",
    "\n",
    "        G.nodes[source]['color'] = node_coloring_function(G, source)\n",
    "        for target in targets:\n",
    "            G.edges[source, target]['color'] = edge_coloring_function(G, source, target)\n",
    "\n",
    "        source += 1\n",
    "\n",
    "    return G\n",
    "\n",
    "def sequence_random_graph(n, m, colors):\n",
    "    G = nx.Graph()\n",
    "    G.add_nodes_from(range(n))\n",
    "    \n",
    "    current_nodes = [0]\n",
    "\n",
    "    for _ in range(5):\n",
    "        new_current_nodes = []\n",
    "        for node in current_nodes:\n",
    "            targets = random_subset(range(n), m)\n",
    "            for target in targets:\n",
    "                color = random.choice(colors)\n",
    "                G.add_edge(node, target, color=color)\n",
    "                if color == colors[0]:\n",
    "                    new_current_nodes.append(target)\n",
    "        current_nodes = new_current_nodes\n",
    "    \n",
    "\n",
    "    return G\n",
    "\n",
    "def identity_coloring(color):\n",
    "    return lambda G, *args: color\n",
    "\n",
    "def edge_coloring_1(G, source, target):\n",
    "    adjacency_edges = G.edges(source)\n",
    "    adjacency_edges_colors = [G.edges[edge]['color'] for edge in adjacency_edges if 'color' in G.edges[edge]]\n",
    "    distinct_colors = set(adjacency_edges_colors + ['red', 'green', 'blue', 'magenta'])\n",
    "    colors_count = {color: 1 / (1 + adjacency_edges_colors.count(color))**2 for color in distinct_colors}\n",
    "\n",
    "    # print(f\"source: {source}, target: {target}: {adjacency_edges} - {adjacency_edges_colors} - {colors_count}\")\n",
    "    return roll(colors_count)[0]\n",
    "\n",
    "def edge_coloring_2(G, source, target):\n",
    "    adjacency_edges = G.edges(source)\n",
    "    adjacency_edges_colors = [G.edges[edge]['color'] for edge in adjacency_edges if 'color' in G.edges[edge]]\n",
    "    distinct_colors = set(adjacency_edges_colors + ['red', 'green', 'blue', 'magenta'])\n",
    "    colors_count = {color: 1 / (1 + adjacency_edges_colors.count(color))**2 for color in distinct_colors}\n",
    "\n",
    "    # print(f\"source: {source}, target: {target}: {adjacency_edges} - {adjacency_edges_colors} - {colors_count}\")\n",
    "    return roll(colors_count)[0]\n",
    "    \n",
    "    \n",
    "N = 40\n",
    "M = 8\n",
    "P = 0.2\n",
    "\n",
    "# barabasi_albert_graph = barabasi_albert_with_coloring(N, M, identity_coloring('black'), edge_coloring_2)\n",
    "# node_colors = [barabasi_albert_graph.nodes[node]['color'] for node in barabasi_albert_graph.nodes]\n",
    "# edge_colors = [barabasi_albert_graph.edges[edge]['color'] for edge in barabasi_albert_graph.edges]\n",
    "\n",
    "# nx.draw(barabasi_albert_graph, with_labels=False, node_color=node_colors, edge_color=edge_colors)\n",
    "\n",
    "sequence_random_graph = sequence_random_graph(N, M, ['red', 'green', 'blue', 'yellow', 'orange'])\n",
    "edge_colors = [sequence_random_graph.edges[edge]['color'] for edge in sequence_random_graph.edges]\n",
    "nx.draw(sequence_random_graph, with_labels=False, node_size=10, node_color='black', edge_color=edge_colors)\n",
    "\n"
   ]
  },
  {
   "cell_type": "code",
   "execution_count": null,
   "metadata": {
    "collapsed": false
   },
   "outputs": [],
   "source": [
    "VERTICES_NUMBER = 6\n",
    "ADD_EDGE_PROBABILITY = 0.8\n",
    "REMOVE_EDGE_PROBABILITY = 0.2\n",
    "\n",
    "random_graph = generate_random_graph(VERTICES_NUMBER, ADD_EDGE_PROBABILITY)\n",
    "nx.draw(random_graph, with_labels=True)\n",
    "plt.show()\n",
    "\n",
    "remove_edges_with_probability(random_graph, REMOVE_EDGE_PROBABILITY)\n",
    "nx.draw(random_graph, with_labels=True)\n",
    "plt.show()"
   ]
  },
  {
   "cell_type": "code",
   "execution_count": null,
   "metadata": {},
   "outputs": [],
   "source": [
    "N = 7\n",
    "M = 2\n",
    "\n",
    "barabasi_albert_graph = barabasi_albert(N, M)\n",
    "nx.draw(barabasi_albert_graph, with_labels=True)"
   ]
  }
 ],
 "metadata": {
  "kernelspec": {
   "display_name": "Python 3",
   "language": "python",
   "name": "python3"
  },
  "language_info": {
   "codemirror_mode": {
    "name": "ipython",
    "version": 3
   },
   "file_extension": ".py",
   "mimetype": "text/x-python",
   "name": "python",
   "nbconvert_exporter": "python",
   "pygments_lexer": "ipython3",
   "version": "3.11.8"
  }
 },
 "nbformat": 4,
 "nbformat_minor": 0
}
